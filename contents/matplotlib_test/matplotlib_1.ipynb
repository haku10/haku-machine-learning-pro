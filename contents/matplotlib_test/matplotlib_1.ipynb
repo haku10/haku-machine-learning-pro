{
 "cells": [
  {
   "cell_type": "markdown",
   "metadata": {},
   "source": [
    "# matplotlibについて"
   ]
  },
  {
   "cell_type": "markdown",
   "metadata": {},
   "source": [
    "---\n",
    "## 目次\n",
    "\n",
    "* [1.matplotlibとは](#about)\n",
    "* [2.棒グラフ](#bar-chart)\n",
    "* [3.お豆腐問題](#tohu)\n",
    "* [4.円グラフ](#pie-chart)\n",
    "* [5.ヒストグラム](#hist)\n",
    "* [6.箱ひげ図](#box)\n",
    "* [7.散布図](#scatter)\n",
    "* [8.折れ線グラフ](#line)\n",
    "---"
   ]
  },
  {
   "cell_type": "markdown",
   "metadata": {},
   "source": [
    "## 1.matplotlibとは<a class=\"anchor\" id=\"about\"></a>\n",
    "matplotlibは、データを可視化するためのライブラリです。  \n",
    "以下のコードで読み込みができます。  \n",
    "今回は、matplotlibの中のpyplotというモジュールを使います。（慣例的にpltと略します。）"
   ]
  },
  {
   "cell_type": "code",
   "execution_count": 1,
   "metadata": {},
   "outputs": [],
   "source": [
    "import matplotlib.pyplot as plt\n",
    "\n",
    "#画像を表示させるためのおまじない\n",
    "%matplotlib inline"
   ]
  },
  {
   "cell_type": "markdown",
   "metadata": {},
   "source": [
    "---"
   ]
  },
  {
   "cell_type": "markdown",
   "metadata": {},
   "source": [
    "## 2.棒グラフ<a class=\"anchor\" id=\"bar-chart\"></a>\n",
    "棒グラフはカテゴリ間で値を比較したいときに使います。  \n",
    "今回はラーメン店のデータを使って棒グラフを作ってみましょう。  \n",
    "棒グラフは`bar( )`という関数を使って作ることができます。"
   ]
  },
  {
   "cell_type": "markdown",
   "metadata": {},
   "source": [
    "### 【データの準備】\n",
    "#### shopデータ（ラーメン店の情報）\n",
    " - id：店舗ID（店舗を識別するユニークな数値）\n",
    " - name：店舗名\n",
    " - location：所在の都道府県\n",
    " - sales：月間売上額（万円）"
   ]
  },
  {
   "cell_type": "code",
   "execution_count": 2,
   "metadata": {},
   "outputs": [],
   "source": [
    "import pandas as pd\n",
    "shop = pd.DataFrame([[1, 'まるちゃんラーメン', '東京', 175], [2, '匠', '東京', 243], [3, 'あじさいラーメン', '東京', 182], [4, '麺屋 奏', '神奈川', 193],\n",
    "                     [5, 'つけめん 中西', '神奈川', 140], [6, '川崎屋', '神奈川', 164], [7, 'ラーメン食堂', '神奈川', 201], [8, '自家製麺 板倉', '千葉', 135],\n",
    "                     [9, '大河ラーメン', '千葉', 186], [10, 'RAMEN TETSU', '埼玉', 157]], columns = ['id', 'name', 'location', 'sales'])"
   ]
  },
  {
   "cell_type": "code",
   "execution_count": 3,
   "metadata": {},
   "outputs": [
    {
     "data": {
      "text/html": [
       "<div>\n",
       "<style scoped>\n",
       "    .dataframe tbody tr th:only-of-type {\n",
       "        vertical-align: middle;\n",
       "    }\n",
       "\n",
       "    .dataframe tbody tr th {\n",
       "        vertical-align: top;\n",
       "    }\n",
       "\n",
       "    .dataframe thead th {\n",
       "        text-align: right;\n",
       "    }\n",
       "</style>\n",
       "<table border=\"1\" class=\"dataframe\">\n",
       "  <thead>\n",
       "    <tr style=\"text-align: right;\">\n",
       "      <th></th>\n",
       "      <th>id</th>\n",
       "      <th>name</th>\n",
       "      <th>location</th>\n",
       "      <th>sales</th>\n",
       "    </tr>\n",
       "  </thead>\n",
       "  <tbody>\n",
       "    <tr>\n",
       "      <th>0</th>\n",
       "      <td>1</td>\n",
       "      <td>まるちゃんラーメン</td>\n",
       "      <td>東京</td>\n",
       "      <td>175</td>\n",
       "    </tr>\n",
       "    <tr>\n",
       "      <th>1</th>\n",
       "      <td>2</td>\n",
       "      <td>匠</td>\n",
       "      <td>東京</td>\n",
       "      <td>243</td>\n",
       "    </tr>\n",
       "    <tr>\n",
       "      <th>2</th>\n",
       "      <td>3</td>\n",
       "      <td>あじさいラーメン</td>\n",
       "      <td>東京</td>\n",
       "      <td>182</td>\n",
       "    </tr>\n",
       "    <tr>\n",
       "      <th>3</th>\n",
       "      <td>4</td>\n",
       "      <td>麺屋 奏</td>\n",
       "      <td>神奈川</td>\n",
       "      <td>193</td>\n",
       "    </tr>\n",
       "    <tr>\n",
       "      <th>4</th>\n",
       "      <td>5</td>\n",
       "      <td>つけめん 中西</td>\n",
       "      <td>神奈川</td>\n",
       "      <td>140</td>\n",
       "    </tr>\n",
       "    <tr>\n",
       "      <th>5</th>\n",
       "      <td>6</td>\n",
       "      <td>川崎屋</td>\n",
       "      <td>神奈川</td>\n",
       "      <td>164</td>\n",
       "    </tr>\n",
       "    <tr>\n",
       "      <th>6</th>\n",
       "      <td>7</td>\n",
       "      <td>ラーメン食堂</td>\n",
       "      <td>神奈川</td>\n",
       "      <td>201</td>\n",
       "    </tr>\n",
       "    <tr>\n",
       "      <th>7</th>\n",
       "      <td>8</td>\n",
       "      <td>自家製麺 板倉</td>\n",
       "      <td>千葉</td>\n",
       "      <td>135</td>\n",
       "    </tr>\n",
       "    <tr>\n",
       "      <th>8</th>\n",
       "      <td>9</td>\n",
       "      <td>大河ラーメン</td>\n",
       "      <td>千葉</td>\n",
       "      <td>186</td>\n",
       "    </tr>\n",
       "    <tr>\n",
       "      <th>9</th>\n",
       "      <td>10</td>\n",
       "      <td>RAMEN TETSU</td>\n",
       "      <td>埼玉</td>\n",
       "      <td>157</td>\n",
       "    </tr>\n",
       "  </tbody>\n",
       "</table>\n",
       "</div>"
      ],
      "text/plain": [
       "   id         name location  sales\n",
       "0   1    まるちゃんラーメン       東京    175\n",
       "1   2            匠       東京    243\n",
       "2   3     あじさいラーメン       東京    182\n",
       "3   4         麺屋 奏      神奈川    193\n",
       "4   5      つけめん 中西      神奈川    140\n",
       "5   6          川崎屋      神奈川    164\n",
       "6   7       ラーメン食堂      神奈川    201\n",
       "7   8      自家製麺 板倉       千葉    135\n",
       "8   9       大河ラーメン       千葉    186\n",
       "9  10  RAMEN TETSU       埼玉    157"
      ]
     },
     "execution_count": 3,
     "metadata": {},
     "output_type": "execute_result"
    }
   ],
   "source": [
    "shop"
   ]
  },
  {
   "cell_type": "markdown",
   "metadata": {},
   "source": [
    "では、所在地別の店舗数を棒グラフにしてみましょう"
   ]
  },
  {
   "cell_type": "code",
   "execution_count": 4,
   "metadata": {},
   "outputs": [
    {
     "data": {
      "image/png": "[encoded data removed]",
      "text/plain": [
       "<Figure size 432x288 with 1 Axes>"
      ]
     },
     "metadata": {
      "needs_background": "light"
     },
     "output_type": "display_data"
    }
   ],
   "source": [
    "y = shop['location'].value_counts()\n",
    "x = range(len(y))\n",
    "\n",
    "plt.bar(x,y)\n",
    "plt.show() #jupyter notebookだと、この文無くても描画できます。"
   ]
  },
  {
   "cell_type": "markdown",
   "metadata": {},
   "source": [
    "これでは何のグラフか分からないため、設定を追加して見映えを整えましょう。  \n",
    " - xticks, yticks：横軸・縦軸に表示する値\n",
    " - xlabel, ylabel：横軸・縦軸のラベル\n",
    " - title：グラフのタイトル\n",
    " - grid：補助線を引く（axisで方向を指定できます）"
   ]
  },
  {
   "cell_type": "code",
   "execution_count": 5,
   "metadata": {},
   "outputs": [
    {
     "name": "stderr",
     "output_type": "stream",
     "text": [
      "/usr/local/lib/python3.6/dist-packages/matplotlib/backends/backend_agg.py:238: RuntimeWarning: Glyph 25152 missing from current font.\n",
      "  font.set_text(s, 0.0, flags=flags)\n",
      "/usr/local/lib/python3.6/dist-packages/matplotlib/backends/backend_agg.py:238: RuntimeWarning: Glyph 22312 missing from current font.\n",
      "  font.set_text(s, 0.0, flags=flags)\n",
      "/usr/local/lib/python3.6/dist-packages/matplotlib/backends/backend_agg.py:238: RuntimeWarning: Glyph 22320 missing from current font.\n",
      "  font.set_text(s, 0.0, flags=flags)\n",
      "/usr/local/lib/python3.6/dist-packages/matplotlib/backends/backend_agg.py:238: RuntimeWarning: Glyph 21029 missing from current font.\n",
      "  font.set_text(s, 0.0, flags=flags)\n",
      "/usr/local/lib/python3.6/dist-packages/matplotlib/backends/backend_agg.py:238: RuntimeWarning: Glyph 24215 missing from current font.\n",
      "  font.set_text(s, 0.0, flags=flags)\n",
      "/usr/local/lib/python3.6/dist-packages/matplotlib/backends/backend_agg.py:238: RuntimeWarning: Glyph 33303 missing from current font.\n",
      "  font.set_text(s, 0.0, flags=flags)\n",
      "/usr/local/lib/python3.6/dist-packages/matplotlib/backends/backend_agg.py:238: RuntimeWarning: Glyph 25968 missing from current font.\n",
      "  font.set_text(s, 0.0, flags=flags)\n",
      "/usr/local/lib/python3.6/dist-packages/matplotlib/backends/backend_agg.py:238: RuntimeWarning: Glyph 31070 missing from current font.\n",
      "  font.set_text(s, 0.0, flags=flags)\n",
      "/usr/local/lib/python3.6/dist-packages/matplotlib/backends/backend_agg.py:238: RuntimeWarning: Glyph 22856 missing from current font.\n",
      "  font.set_text(s, 0.0, flags=flags)\n",
      "/usr/local/lib/python3.6/dist-packages/matplotlib/backends/backend_agg.py:238: RuntimeWarning: Glyph 24029 missing from current font.\n",
      "  font.set_text(s, 0.0, flags=flags)\n",
      "/usr/local/lib/python3.6/dist-packages/matplotlib/backends/backend_agg.py:238: RuntimeWarning: Glyph 26481 missing from current font.\n",
      "  font.set_text(s, 0.0, flags=flags)\n",
      "/usr/local/lib/python3.6/dist-packages/matplotlib/backends/backend_agg.py:238: RuntimeWarning: Glyph 20140 missing from current font.\n",
      "  font.set_text(s, 0.0, flags=flags)\n",
      "/usr/local/lib/python3.6/dist-packages/matplotlib/backends/backend_agg.py:238: RuntimeWarning: Glyph 21315 missing from current font.\n",
      "  font.set_text(s, 0.0, flags=flags)\n",
      "/usr/local/lib/python3.6/dist-packages/matplotlib/backends/backend_agg.py:238: RuntimeWarning: Glyph 33865 missing from current font.\n",
      "  font.set_text(s, 0.0, flags=flags)\n",
      "/usr/local/lib/python3.6/dist-packages/matplotlib/backends/backend_agg.py:238: RuntimeWarning: Glyph 22524 missing from current font.\n",
      "  font.set_text(s, 0.0, flags=flags)\n",
      "/usr/local/lib/python3.6/dist-packages/matplotlib/backends/backend_agg.py:238: RuntimeWarning: Glyph 29577 missing from current font.\n",
      "  font.set_text(s, 0.0, flags=flags)\n",
      "/usr/local/lib/python3.6/dist-packages/matplotlib/backends/backend_agg.py:201: RuntimeWarning: Glyph 31070 missing from current font.\n",
      "  font.set_text(s, 0, flags=flags)\n",
      "/usr/local/lib/python3.6/dist-packages/matplotlib/backends/backend_agg.py:201: RuntimeWarning: Glyph 22856 missing from current font.\n",
      "  font.set_text(s, 0, flags=flags)\n",
      "/usr/local/lib/python3.6/dist-packages/matplotlib/backends/backend_agg.py:201: RuntimeWarning: Glyph 24029 missing from current font.\n",
      "  font.set_text(s, 0, flags=flags)\n",
      "/usr/local/lib/python3.6/dist-packages/matplotlib/backends/backend_agg.py:201: RuntimeWarning: Glyph 26481 missing from current font.\n",
      "  font.set_text(s, 0, flags=flags)\n",
      "/usr/local/lib/python3.6/dist-packages/matplotlib/backends/backend_agg.py:201: RuntimeWarning: Glyph 20140 missing from current font.\n",
      "  font.set_text(s, 0, flags=flags)\n",
      "/usr/local/lib/python3.6/dist-packages/matplotlib/backends/backend_agg.py:201: RuntimeWarning: Glyph 21315 missing from current font.\n",
      "  font.set_text(s, 0, flags=flags)\n",
      "/usr/local/lib/python3.6/dist-packages/matplotlib/backends/backend_agg.py:201: RuntimeWarning: Glyph 33865 missing from current font.\n",
      "  font.set_text(s, 0, flags=flags)\n",
      "/usr/local/lib/python3.6/dist-packages/matplotlib/backends/backend_agg.py:201: RuntimeWarning: Glyph 22524 missing from current font.\n",
      "  font.set_text(s, 0, flags=flags)\n",
      "/usr/local/lib/python3.6/dist-packages/matplotlib/backends/backend_agg.py:201: RuntimeWarning: Glyph 29577 missing from current font.\n",
      "  font.set_text(s, 0, flags=flags)\n",
      "/usr/local/lib/python3.6/dist-packages/matplotlib/backends/backend_agg.py:201: RuntimeWarning: Glyph 25152 missing from current font.\n",
      "  font.set_text(s, 0, flags=flags)\n",
      "/usr/local/lib/python3.6/dist-packages/matplotlib/backends/backend_agg.py:201: RuntimeWarning: Glyph 22312 missing from current font.\n",
      "  font.set_text(s, 0, flags=flags)\n",
      "/usr/local/lib/python3.6/dist-packages/matplotlib/backends/backend_agg.py:201: RuntimeWarning: Glyph 22320 missing from current font.\n",
      "  font.set_text(s, 0, flags=flags)\n",
      "/usr/local/lib/python3.6/dist-packages/matplotlib/backends/backend_agg.py:201: RuntimeWarning: Glyph 24215 missing from current font.\n",
      "  font.set_text(s, 0, flags=flags)\n",
      "/usr/local/lib/python3.6/dist-packages/matplotlib/backends/backend_agg.py:201: RuntimeWarning: Glyph 33303 missing from current font.\n",
      "  font.set_text(s, 0, flags=flags)\n",
      "/usr/local/lib/python3.6/dist-packages/matplotlib/backends/backend_agg.py:201: RuntimeWarning: Glyph 25968 missing from current font.\n",
      "  font.set_text(s, 0, flags=flags)\n",
      "/usr/local/lib/python3.6/dist-packages/matplotlib/backends/backend_agg.py:201: RuntimeWarning: Glyph 21029 missing from current font.\n",
      "  font.set_text(s, 0, flags=flags)\n"
     ]
    },
    {
     "data": {
      "image/png": "[encoded data removed]",
      "text/plain": [
       "<Figure size 432x288 with 1 Axes>"
      ]
     },
     "metadata": {
      "needs_background": "light"
     },
     "output_type": "display_data"
    }
   ],
   "source": [
    "#ラベル類\n",
    "plt.xticks(x, y.index)\n",
    "plt.yticks(range(5))\n",
    "plt.xlabel('所在地')\n",
    "plt.ylabel('店舗数')\n",
    "\n",
    "#タイトル\n",
    "plt.title('所在地別店舗数')\n",
    "\n",
    "#補助線\n",
    "plt.grid(axis='y', linestyle='dotted')\n",
    "\n",
    "#描画（zorder=2とすることで、棒グラフが補助線より上にくるようになります）\n",
    "plt.bar(x,y, zorder=2)\n",
    "plt.show()"
   ]
  },
  {
   "cell_type": "markdown",
   "metadata": {},
   "source": [
    "---"
   ]
  },
  {
   "cell_type": "markdown",
   "metadata": {},
   "source": [
    "## 3.お豆腐問題<a class=\"anchor\" id=\"tohu\"></a>\n",
    "matplotlibを使っていると、日本語がうまく表示されない文字化け問題が発生します。  \n",
    "その見た目から「お豆腐」と呼ばれたりします。  \n",
    "以下のコードで解決ができます。（WindowsとMacでコードが異なります。）"
   ]
  },
  {
   "cell_type": "code",
   "execution_count": 8,
   "metadata": {},
   "outputs": [],
   "source": [
    "import japanize_matplotlib"
   ]
  },
  {
   "cell_type": "markdown",
   "metadata": {},
   "source": [
    "文字化け現象はPythonのエラーの中でも闇の深いものになっており、  \n",
    "OSやpipのバージョンなどによっては上記コードで解決できない可能性もあります。  \n",
    "  \n",
    "ただ、複数解決方法があるので「Python 文字化け」「Python 豆腐」などと検索してみてください。  \n",
    "（日本語を使わないのが手っ取り早い解決方法ではあります。。。）\n",
    "  \n",
    "では、再度グラフを表示させてみましょう。"
   ]
  },
  {
   "cell_type": "code",
   "execution_count": 9,
   "metadata": {},
   "outputs": [
    {
     "data": {
      "image/png": "[encoded data removed]",
      "text/plain": [
       "<Figure size 432x288 with 1 Axes>"
      ]
     },
     "metadata": {
      "needs_background": "light"
     },
     "output_type": "display_data"
    }
   ],
   "source": [
    "#ラベル類\n",
    "plt.xticks(x, y.index)\n",
    "plt.yticks(range(5))\n",
    "plt.xlabel('所在地')\n",
    "plt.ylabel('店舗数')\n",
    "\n",
    "#タイトル\n",
    "plt.title('所在地別店舗数')\n",
    "\n",
    "#補助線\n",
    "plt.grid(axis='y', linestyle='dotted')\n",
    "\n",
    "plt.bar(x,y, zorder=2)\n",
    "plt.show()"
   ]
  },
  {
   "cell_type": "markdown",
   "metadata": {},
   "source": [
    "### 練習問題１\n",
    "shopデータを使って、所在地別の平均売上額を**棒グラフ**にしましょう。"
   ]
  },
  {
   "cell_type": "code",
   "execution_count": 10,
   "metadata": {},
   "outputs": [],
   "source": [
    "# ヒント\n",
    "# 平均売上額は以下のようにして求めることができます。\n",
    "sales = shop.groupby('location')['sales'].mean()"
   ]
  },
  {
   "cell_type": "code",
   "execution_count": null,
   "metadata": {},
   "outputs": [],
   "source": []
  },
  {
   "cell_type": "markdown",
   "metadata": {},
   "source": [
    "---"
   ]
  },
  {
   "cell_type": "markdown",
   "metadata": {},
   "source": [
    "## 4.円グラフ<a class=\"anchor\" id=\"pie-chart\"></a>\n",
    "円グラフは各カテゴリが全体に占める割合を知りたいときに使います。  \n",
    "※カテゴリ間を比較するときには棒グラフを使いましょう。  \n",
    "  \n",
    "円グラフは`pie( )`で描くことができます。\n",
    "  \n",
    "データは引き続きラーメン店のデータを使います。  \n",
    "所在地別の店舗数を円グラフにしましょう。"
   ]
  },
  {
   "cell_type": "code",
   "execution_count": 11,
   "metadata": {},
   "outputs": [
    {
     "data": {
      "image/png": "[encoded data removed]",
      "text/plain": [
       "<Figure size 432x288 with 1 Axes>"
      ]
     },
     "metadata": {},
     "output_type": "display_data"
    }
   ],
   "source": [
    "count = shop['location'].value_counts()\n",
    "\n",
    "#タイトル\n",
    "plt.title('所在地別店舗数')\n",
    "\n",
    "#グラフ作成\n",
    "plt.pie(count, labels = count.index, autopct = '%1.1f%%', startangle = 90, counterclock=False)\n",
    "\n",
    "# 円を丸くする\n",
    "plt.axis('equal')\n",
    "plt.show()"
   ]
  },
  {
   "cell_type": "markdown",
   "metadata": {},
   "source": [
    "`pie( )`内のパラメータの説明をします。  \n",
    " - autopct：各カテゴリの割合の表示形式\n",
    " - startangle：グラフの始まりの位置（90は12時の位置）\n",
    " - counterclock：円グラフを出力する方向（時計回りか反時計回りか）\n",
    "  \n",
    "さらに`explode`パラメータを使うことで特定のカテゴリを円からずらすことができます。"
   ]
  },
  {
   "cell_type": "code",
   "execution_count": 12,
   "metadata": {},
   "outputs": [
    {
     "data": {
      "image/png": "[encoded data removed]",
      "text/plain": [
       "<Figure size 432x288 with 1 Axes>"
      ]
     },
     "metadata": {},
     "output_type": "display_data"
    }
   ],
   "source": [
    "explode = [0, 0.05, 0, 0]\n",
    "\n",
    "plt.title('所在地別店舗数')\n",
    "plt.pie(count, labels = count.index, autopct = '%1.1f%%', startangle = 90, counterclock=False,\n",
    "       explode=explode)\n",
    "plt.axis('equal')\n",
    "plt.show()"
   ]
  },
  {
   "cell_type": "markdown",
   "metadata": {},
   "source": [
    "### 練習問題２\n",
    "shopデータを使って、所在地別の平均売上額を**円グラフ**にしましょう。"
   ]
  },
  {
   "cell_type": "code",
   "execution_count": null,
   "metadata": {},
   "outputs": [],
   "source": []
  },
  {
   "cell_type": "markdown",
   "metadata": {},
   "source": [
    "---"
   ]
  },
  {
   "cell_type": "markdown",
   "metadata": {},
   "source": [
    "## 5.ヒストグラム<a class=\"anchor\" id=\"hist\"></a>\n",
    "１次元データのばらつき具合を見るときにヒストグラムを使います。  \n",
    "ヒストグラムは`hist( )`で描くことができます。  \n",
    "  \n",
    "ここからは乱数でデータを作成してグラフにします。"
   ]
  },
  {
   "cell_type": "code",
   "execution_count": 13,
   "metadata": {},
   "outputs": [
    {
     "data": {
      "image/png": "[encoded data removed]",
      "text/plain": [
       "<Figure size 432x288 with 1 Axes>"
      ]
     },
     "metadata": {
      "needs_background": "light"
     },
     "output_type": "display_data"
    }
   ],
   "source": [
    "import numpy as np\n",
    "\n",
    "n = 1000\n",
    "\n",
    "#正規分布するデータを生成（平均（0）に近いほど発生確率が高いデータ）\n",
    "x = np.random.randn(n)\n",
    "\n",
    "plt.hist(x)\n",
    "plt.show()"
   ]
  },
  {
   "cell_type": "markdown",
   "metadata": {},
   "source": [
    "---"
   ]
  },
  {
   "cell_type": "markdown",
   "metadata": {},
   "source": [
    "## 6.箱ひげ図<a class=\"anchor\" id=\"box\"></a>\n",
    "５と同様にデータのばらつきを見たい時や、複数カテゴリのデータでばらつき具合を比較したいときに箱ひげ図を使います。  \n",
    "箱ひげ図は`boxplot( )`で描くことができます。  \n",
    "ここではラベルの設定を行うために`subplots( )`でグラフそのもののオブジェクトを作成しました。"
   ]
  },
  {
   "cell_type": "code",
   "execution_count": 14,
   "metadata": {},
   "outputs": [
    {
     "data": {
      "image/png": "[encoded data removed]",
      "text/plain": [
       "<Figure size 432x288 with 1 Axes>"
      ]
     },
     "metadata": {
      "needs_background": "light"
     },
     "output_type": "display_data"
    }
   ],
   "source": [
    "n = 1000\n",
    "\n",
    "#正規分布するデータを生成（x：平均が３、y：平均が5、z：平均が7）\n",
    "x = np.random.normal(3, 1, n)\n",
    "y = np.random.normal(5, 1, n)\n",
    "z = np.random.normal(7, 1, n)\n",
    "\n",
    "#サブグラフ作成 （axはグラフの描画や軸メモリ・ラベル等の設定を請け負う）\n",
    "fig, ax = plt.subplots()\n",
    "ax.boxplot([x, y, z])\n",
    "ax.set_xticklabels(['x','y','z'])\n",
    "\n",
    "plt.show()"
   ]
  },
  {
   "cell_type": "markdown",
   "metadata": {},
   "source": [
    "### 練習問題３\n",
    "正規分布するデータを作成する関数`np.random.normal( )`の第二引数は分散（どれだけばらついているか）を表しています。  \n",
    "上の例を参考に、\n",
    " - **平均0**、**分散1**の正規分布するデータ1000個の箱ひげ図\n",
    " - **平均0**、**分散3**の正規分布するデータ1000個の箱ひげ図\n",
    " - **平均0**、**分散5**の正規分布するデータ1000個の箱ひげ図  \n",
    "\n",
    "の３つの箱ひげ図を作成し、１つの図にまとめてください。  \n",
    "  \n",
    "余裕があればタイトルや軸ラベルをつけてみましょう。"
   ]
  },
  {
   "cell_type": "code",
   "execution_count": null,
   "metadata": {
    "scrolled": true
   },
   "outputs": [],
   "source": []
  },
  {
   "cell_type": "markdown",
   "metadata": {},
   "source": [
    "---"
   ]
  },
  {
   "cell_type": "markdown",
   "metadata": {},
   "source": [
    "## 7.散布図<a class=\"anchor\" id=\"scatter\"></a>\n",
    "２変数データのばらつき具合を見るときに散布図を使います。  \n",
    "散布図は`scatter( )`で描くことができます。"
   ]
  },
  {
   "cell_type": "code",
   "execution_count": null,
   "metadata": {},
   "outputs": [],
   "source": [
    "n = 50\n",
    "\n",
    "#データをランダムに生成 \n",
    "x = np.random.rand(n)\n",
    "y = np.random.rand(n)\n",
    "\n",
    "# グラフを描画\n",
    "plt.scatter(x, y)\n",
    "plt.show()"
   ]
  },
  {
   "cell_type": "markdown",
   "metadata": {},
   "source": [
    "---"
   ]
  },
  {
   "cell_type": "markdown",
   "metadata": {},
   "source": [
    "## 8.折れ線グラフ<a class=\"anchor\" id=\"line\"></a>\n",
    "時系列データなど連続性のあるデータの変化を見るときには折れ線グラフを使います。  \n",
    "折れ線グラフは`plot( )`で描くことができます。"
   ]
  },
  {
   "cell_type": "code",
   "execution_count": null,
   "metadata": {},
   "outputs": [],
   "source": [
    "n = 100\n",
    "\n",
    "# 乱数の発生。１か−１を発生させる\n",
    "num = np.random.choice([-1,1], size=n)\n",
    "\n",
    "# ランダムに数値が増減するデータを生成\n",
    "cumsum = np.cumsum(num)\n",
    "\n",
    "#グラフを描画\n",
    "plt.plot(range(n), cumsum)\n",
    "plt.show()"
   ]
  },
  {
   "cell_type": "markdown",
   "metadata": {},
   "source": [
    "---"
   ]
  }
 ],
 "metadata": {
  "kernelspec": {
   "display_name": "Python 3",
   "language": "python",
   "name": "python3"
  },
  "language_info": {
   "codemirror_mode": {
    "name": "ipython",
    "version": 3
   },
   "file_extension": ".py",
   "mimetype": "text/x-python",
   "name": "python",
   "nbconvert_exporter": "python",
   "pygments_lexer": "ipython3",
   "version": "3.6.9"
  }
 },
 "nbformat": 4,
 "nbformat_minor": 2
}
